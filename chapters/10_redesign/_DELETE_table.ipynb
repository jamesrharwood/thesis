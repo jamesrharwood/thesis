{
  "cells": [
    {
      "cell_type": "code",
      "execution_count": null,
      "id": "583a0b7a",
      "metadata": {
        "cache": false
      },
      "outputs": [],
      "source": [
        "#| echo: false\n",
        "#| output: asis\n",
        "import yaml\n",
        "import os\n",
        "import texttable\n",
        "\n",
        "COLS = ['Intervention Ingredient', 'Intervention Functions', 'BCT', 'Before', 'Now']\n",
        "COL_RANGE = range(len(COLS))\n",
        "WIDTHS = [100, 100, 100, 50, 50]\n",
        "ALIGNMENTS = ['l' for _ in COL_RANGE]\n",
        "DIR = os.getcwd()\n",
        "FP = os.path.join(DIR, 'chapters', 'redesign', 'planning_table.yaml')\n",
        "with open(FP, 'r') as f:\n",
        "    data = yaml.safe_load(f)\n",
        "table = texttable.Texttable()\n",
        "table.header(COLS)\n",
        "table.set_cols_width(WIDTHS)\n",
        "table.set_header_align(ALIGNMENTS)\n",
        "for key_behaviour, barriers in data.items():\n",
        "    table.add_row([f'[*{key_behaviour}*]{{.nowrap style=\"color: red\"}}', '', '', '', ''])\n",
        "    for barrier, details in barriers.items():\n",
        "        target = details.get('target', None)\n",
        "        text = f'[**Influencing factor:\\n\\n{{{{< var BARRIERS.{barrier} >}}}}**\\n\\nTarget Concept (BCW): {target}_]{{.nowrap}}'\n",
        "        table.add_row([text, '', '', '', ''])\n",
        "        ingredients = details['ingredients']\n",
        "        if type(ingredients)==dict:\n",
        "            for desc, values in ingredients.items():\n",
        "                try:\n",
        "                    before = f'{values[\"before\"]}\\n\\nExample: {values[\"before_example\"]}'\n",
        "                    now = f'{values[\"now\"]}\\n\\nExample: {values[\"now_example\"]}'\n",
        "                except Exception as e:\n",
        "                    raise Exception(desc)\n",
        "                table.add_row([desc, '', '', before, now])\n",
        "    print(f'### Key Behaviour: {key_behaviour}\\n\\n')\n",
        "    print(table.draw())\n",
        "    ##"
      ]
    }
  ],
  "metadata": {
    "kernelspec": {
      "display_name": "Python 3 (ipykernel)",
      "language": "python",
      "name": "python3"
    }
  },
  "nbformat": 4,
  "nbformat_minor": 5
}
